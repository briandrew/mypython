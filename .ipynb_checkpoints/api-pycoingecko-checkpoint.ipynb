{
 "cells": [
  {
   "cell_type": "code",
   "execution_count": 1,
   "id": "52978635-bea9-46d6-9ac3-4509ef91b7d9",
   "metadata": {},
   "outputs": [
    {
     "name": "stdout",
     "output_type": "stream",
     "text": [
      "Collecting pycoingecko\n",
      "  Downloading pycoingecko-3.1.0-py3-none-any.whl.metadata (12 kB)\n",
      "Requirement already satisfied: requests in c:\\users\\brian\\appdata\\local\\programs\\python\\python312\\lib\\site-packages (from pycoingecko) (2.31.0)\n",
      "Requirement already satisfied: charset-normalizer<4,>=2 in c:\\users\\brian\\appdata\\local\\programs\\python\\python312\\lib\\site-packages (from requests->pycoingecko) (3.3.2)\n",
      "Requirement already satisfied: idna<4,>=2.5 in c:\\users\\brian\\appdata\\local\\programs\\python\\python312\\lib\\site-packages (from requests->pycoingecko) (3.7)\n",
      "Requirement already satisfied: urllib3<3,>=1.21.1 in c:\\users\\brian\\appdata\\local\\programs\\python\\python312\\lib\\site-packages (from requests->pycoingecko) (2.2.1)\n",
      "Requirement already satisfied: certifi>=2017.4.17 in c:\\users\\brian\\appdata\\local\\programs\\python\\python312\\lib\\site-packages (from requests->pycoingecko) (2024.2.2)\n",
      "Downloading pycoingecko-3.1.0-py3-none-any.whl (8.8 kB)\n",
      "Installing collected packages: pycoingecko\n",
      "Successfully installed pycoingecko-3.1.0\n"
     ]
    }
   ],
   "source": [
    "!pip install pycoingecko"
   ]
  },
  {
   "cell_type": "code",
   "execution_count": 4,
   "id": "eb2be3d5-56df-42d4-b106-ae78cc68250e",
   "metadata": {},
   "outputs": [],
   "source": [
    "from pycoingecko import CoinGeckoAPI\n",
    "cg = CoinGeckoAPI()"
   ]
  },
  {
   "cell_type": "code",
   "execution_count": 5,
   "id": "866e128b-7210-4db6-b4ba-5b27b2512e16",
   "metadata": {},
   "outputs": [],
   "source": [
    "bitcoin_data = cg.get_coin_market_chart_by_id(id = 'bitcoin', vs_currency = 'usd', days = 30)"
   ]
  },
  {
   "cell_type": "code",
   "execution_count": null,
   "id": "424fe69a-b364-46cf-af24-17fe724a9ed7",
   "metadata": {},
   "outputs": [],
   "source": []
  }
 ],
 "metadata": {
  "kernelspec": {
   "display_name": "Python 3 (ipykernel)",
   "language": "python",
   "name": "python3"
  },
  "language_info": {
   "codemirror_mode": {
    "name": "ipython",
    "version": 3
   },
   "file_extension": ".py",
   "mimetype": "text/x-python",
   "name": "python",
   "nbconvert_exporter": "python",
   "pygments_lexer": "ipython3",
   "version": "3.12.3"
  }
 },
 "nbformat": 4,
 "nbformat_minor": 5
}
