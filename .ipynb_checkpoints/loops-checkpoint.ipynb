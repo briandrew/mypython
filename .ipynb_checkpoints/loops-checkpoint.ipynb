{
 "cells": [
  {
   "cell_type": "code",
   "execution_count": 42,
   "id": "7ed7dbad-abc2-4c32-9067-a0498ea2f5ec",
   "metadata": {},
   "outputs": [],
   "source": [
    "squares = [\"red\", \"yellow\", \"green\", \"purple\", \"blue\", \"orange\"]"
   ]
  },
  {
   "cell_type": "code",
   "execution_count": 43,
   "id": "d040a318-20b2-4224-a65d-5ad79e067843",
   "metadata": {},
   "outputs": [
    {
     "name": "stdout",
     "output_type": "stream",
     "text": [
      "0\n",
      "red\n",
      "1\n",
      "yellow\n",
      "2\n",
      "green\n",
      "3\n",
      "purple\n",
      "4\n",
      "blue\n",
      "5\n",
      "orange\n"
     ]
    }
   ],
   "source": [
    "\n",
    "for i, square in enumerate(squares):\n",
    "    print(i)\n",
    "    print(square)\n"
   ]
  },
  {
   "cell_type": "code",
   "execution_count": 47,
   "id": "4446e459-b47e-4fcb-bbe7-d89f5f2d33a6",
   "metadata": {},
   "outputs": [
    {
     "name": "stdout",
     "output_type": "stream",
     "text": [
      "red\n",
      "yellow\n",
      "green\n",
      "purple\n",
      "blue\n"
     ]
    }
   ],
   "source": [
    "i=0\n",
    "while squares[i] != \"orange\":\n",
    "    print(squares[i])\n",
    "    i=i+1"
   ]
  },
  {
   "cell_type": "code",
   "execution_count": 50,
   "id": "2d5fcd01-ea9c-4a42-af85-a0d09d1976e5",
   "metadata": {},
   "outputs": [
    {
     "name": "stdout",
     "output_type": "stream",
     "text": [
      "['giraffe', 'gorilla', 'parrots']\n"
     ]
    }
   ],
   "source": [
    "Animals = [\"lion\", \"giraffe\", \"gorilla\", \"parrots\", \"crocodile\",\"deer\", \"swan\"]\n",
    "\n",
    "New = []\n",
    "i = 0\n",
    "while i < len(Animals):\n",
    "    j = Animals[i]\n",
    "    if len(j) ==7:\n",
    "        New.append(j)\n",
    "    i += 1\n",
    "print(New)"
   ]
  },
  {
   "cell_type": "code",
   "execution_count": 53,
   "id": "3b937c4c-d555-4780-be4e-a6cbbc267072",
   "metadata": {},
   "outputs": [
    {
     "name": "stdout",
     "output_type": "stream",
     "text": [
      "0 A\n",
      "1 B\n",
      "2 C\n"
     ]
    }
   ],
   "source": [
    "for i, x in enumerate(['A', 'B', 'C']):\n",
    "    print(i, x)\n"
   ]
  },
  {
   "cell_type": "code",
   "execution_count": null,
   "id": "263b297c-082d-4b30-befb-15af516e05eb",
   "metadata": {},
   "outputs": [],
   "source": []
  }
 ],
 "metadata": {
  "kernelspec": {
   "display_name": "Python 3 (ipykernel)",
   "language": "python",
   "name": "python3"
  },
  "language_info": {
   "codemirror_mode": {
    "name": "ipython",
    "version": 3
   },
   "file_extension": ".py",
   "mimetype": "text/x-python",
   "name": "python",
   "nbconvert_exporter": "python",
   "pygments_lexer": "ipython3",
   "version": "3.12.3"
  }
 },
 "nbformat": 4,
 "nbformat_minor": 5
}
