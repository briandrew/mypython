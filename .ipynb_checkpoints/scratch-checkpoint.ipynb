{
 "cells": [
  {
   "cell_type": "code",
   "execution_count": 1,
   "id": "2ba46a35-add2-48b1-977c-50b1a46dee96",
   "metadata": {},
   "outputs": [
    {
     "name": "stdout",
     "output_type": "stream",
     "text": [
      "Stop\n",
      "Mike\n"
     ]
    }
   ],
   "source": [
    "x = \"Gone\" \n",
    "if x == \"Go\": \n",
    "    print('Go') \n",
    "else: \n",
    "    print('Stop') \n",
    "print('Mike')"
   ]
  },
  {
   "cell_type": "code",
   "execution_count": 2,
   "id": "a469e28d-a555-4812-ac1e-8dea25e377b4",
   "metadata": {},
   "outputs": [],
   "source": [
    "x = 1 \n",
    "x = x > 5"
   ]
  },
  {
   "cell_type": "code",
   "execution_count": 3,
   "id": "4c9b76fd-930b-447b-b08c-09c6f7e6bb95",
   "metadata": {},
   "outputs": [
    {
     "data": {
      "text/plain": [
       "False"
      ]
     },
     "execution_count": 3,
     "metadata": {},
     "output_type": "execute_result"
    }
   ],
   "source": [
    "x\n"
   ]
  },
  {
   "cell_type": "code",
   "execution_count": 4,
   "id": "dd47ed3e-8835-43a3-983b-e34309fed1df",
   "metadata": {},
   "outputs": [
    {
     "name": "stdout",
     "output_type": "stream",
     "text": [
      "5\n",
      "4\n",
      "3\n"
     ]
    }
   ],
   "source": [
    "x = 5 \n",
    "while x != 2: \n",
    "    print(x) \n",
    "    x = x - 1 "
   ]
  },
  {
   "cell_type": "code",
   "execution_count": 5,
   "id": "0117e0ad-dabf-4afe-ab59-9107bd08697b",
   "metadata": {},
   "outputs": [
    {
     "name": "stdout",
     "output_type": "stream",
     "text": [
      "x= A  y= B\n"
     ]
    }
   ],
   "source": [
    "class Points(object):\n",
    "    def __init__(self, x, y):\n",
    "        self.x = x \n",
    "        self.y = y \n",
    "\n",
    "\n",
    "    def print_point(self): \n",
    "        print('x=', self.x, ' y=', self.y) \n",
    "\n",
    "\n",
    "p1 = Points(\"A\", \"B\") \n",
    "p1.print_point()"
   ]
  },
  {
   "cell_type": "code",
   "execution_count": 6,
   "id": "fa98a70c-fe68-46e6-9d96-a631fe8499a9",
   "metadata": {},
   "outputs": [
    {
     "name": "stdout",
     "output_type": "stream",
     "text": [
      "1 A\n",
      "2 B\n",
      "3 C\n"
     ]
    }
   ],
   "source": [
    "for i, x in enumerate(['A', 'B', 'C']): \n",
    "    print(i + 1, x)"
   ]
  },
  {
   "cell_type": "code",
   "execution_count": 7,
   "id": "a1bd6bda-4480-4452-b4a4-6e84efe10d11",
   "metadata": {},
   "outputs": [
    {
     "name": "stdout",
     "output_type": "stream",
     "text": [
      "x= A  y= 2\n"
     ]
    }
   ],
   "source": [
    "class Points(object): \n",
    "    def __init__(self, x, y): \n",
    "        self.x = x \n",
    "        self.y = y \n",
    "    def print_point(self): \n",
    "        print('x=', self.x, ' y=', self.y) \n",
    "\n",
    "\n",
    "p2 = Points(1, 2) \n",
    "p2.x = 'A' \n",
    "p2.print_point()\n"
   ]
  },
  {
   "cell_type": "code",
   "execution_count": 8,
   "id": "7a01268b-c641-40d3-b9d7-54c38156b167",
   "metadata": {},
   "outputs": [],
   "source": [
    " def step(x): \n",
    "    if x > 0: \n",
    "        y = 1 \n",
    "    else: \n",
    "        y = 0 \n",
    "    return y\n"
   ]
  },
  {
   "cell_type": "code",
   "execution_count": 9,
   "id": "801290c5-5015-4990-a010-a45b93a4e1b0",
   "metadata": {},
   "outputs": [
    {
     "data": {
      "text/plain": [
       "1"
      ]
     },
     "execution_count": 9,
     "metadata": {},
     "output_type": "execute_result"
    }
   ],
   "source": [
    "step(5)"
   ]
  },
  {
   "cell_type": "code",
   "execution_count": 10,
   "id": "a5978945-58f5-4cd7-97bd-8c98b7c99428",
   "metadata": {},
   "outputs": [
    {
     "data": {
      "text/plain": [
       "1"
      ]
     },
     "execution_count": 10,
     "metadata": {},
     "output_type": "execute_result"
    }
   ],
   "source": [
    "step(10)"
   ]
  },
  {
   "cell_type": "code",
   "execution_count": 11,
   "id": "b3ab5ac8-49f0-4d30-b67b-3517f0ea390d",
   "metadata": {},
   "outputs": [
    {
     "name": "stdout",
     "output_type": "stream",
     "text": [
      "101\n"
     ]
    }
   ],
   "source": [
    " a = 1 \n",
    "def do(x): \n",
    "    a = 100 \n",
    "    return x + a \n",
    "\n",
    "\n",
    "print(do(1))"
   ]
  },
  {
   "cell_type": "code",
   "execution_count": 12,
   "id": "fd5abd5b-ce7c-4fd0-8845-4f39c8938473",
   "metadata": {},
   "outputs": [
    {
     "name": "stdout",
     "output_type": "stream",
     "text": [
      "Error: Denominator cannot be 0.\n"
     ]
    }
   ],
   "source": [
    "try:\n",
    "    numerator = 10\n",
    "    denominator = 0\n",
    "    result = numerator / denominator\n",
    "    print(result)\n",
    "except ZeroDivisionError:\n",
    "    print(\"Error: Denominator cannot be 0.\")"
   ]
  },
  {
   "cell_type": "code",
   "execution_count": null,
   "id": "53640c1e-b120-41a1-90ff-a8189f499183",
   "metadata": {},
   "outputs": [],
   "source": []
  }
 ],
 "metadata": {
  "kernelspec": {
   "display_name": "Python 3 (ipykernel)",
   "language": "python",
   "name": "python3"
  },
  "language_info": {
   "codemirror_mode": {
    "name": "ipython",
    "version": 3
   },
   "file_extension": ".py",
   "mimetype": "text/x-python",
   "name": "python",
   "nbconvert_exporter": "python",
   "pygments_lexer": "ipython3",
   "version": "3.12.3"
  }
 },
 "nbformat": 4,
 "nbformat_minor": 5
}
