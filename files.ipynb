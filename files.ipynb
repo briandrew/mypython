{
 "cells": [
  {
   "cell_type": "markdown",
   "id": "1fd7f27a-0e62-456c-b577-a71e9cca32f5",
   "metadata": {},
   "source": [
    "file1 = open(\"path/path/filename\", \"r\")  the \"r\" means read only"
   ]
  },
  {
   "cell_type": "markdown",
   "id": "44804553-5453-4480-a386-1ff1ab5a4cf8",
   "metadata": {},
   "source": [
    "better is to use:\n",
    "with open(\"filename.txt\", \"r\") as file1something: using 'with' will auto-close the file when the indented code is exited\n",
    "    file_stuff = file1something.read() stores contents of file in the variable\n",
    "    print(file_stuff)"
   ]
  },
  {
   "cell_type": "code",
   "execution_count": 46,
   "id": "b7922bdc-6066-4e71-a9e7-170fbabdc93b",
   "metadata": {},
   "outputs": [
    {
     "name": "stdout",
     "output_type": "stream",
     "text": [
      "In t\n",
      "his sect\n",
      "ion, we will use\n",
      " Python's built-in open function\n",
      " to create a file object, and obtain the data from a \"txt\" file.\n"
     ]
    }
   ],
   "source": [
    "with open(\"testtext.txt\", \"r\") as file1:\n",
    "    counter = 5\n",
    "    readline = 4\n",
    "    while counter > 0:\n",
    "        # tempfile = file1.read()\n",
    "        templine = file1.readline(readline)\n",
    "        # print(tempfile)\n",
    "        print(templine)\n",
    "        counter -= 1\n",
    "        readline *= 2\n",
    "        "
   ]
  },
  {
   "cell_type": "markdown",
   "id": "ecfa0f43-e397-4e7a-bdb7-d6dd5303e4e5",
   "metadata": {},
   "source": [
    "## Uncomment these if working locally, else let the following code cell run."
   ]
  },
  {
   "cell_type": "code",
   "execution_count": 35,
   "id": "2dff4729-2680-4b9f-a9e6-e294f0578c82",
   "metadata": {},
   "outputs": [
    {
     "data": {
      "text/plain": [
       "('Example1.txt', <http.client.HTTPMessage at 0x1fc19fc12e0>)"
      ]
     },
     "execution_count": 35,
     "metadata": {},
     "output_type": "execute_result"
    }
   ],
   "source": [
    "import urllib.request\n",
    "url = 'https://cf-courses-data.s3.us.cloud-object-storage.appdomain.cloud/IBMDeveloperSkillsNetwork-PY0101EN-SkillsNetwork/labs/Module%204/data/example1.txt'\n",
    "filename = 'Example1.txt'\n",
    "urllib.request.urlretrieve(url, filename)"
   ]
  },
  {
   "cell_type": "code",
   "execution_count": 50,
   "id": "8f049a25-37b8-47eb-aabd-94231a1eae1e",
   "metadata": {},
   "outputs": [
    {
     "name": "stdout",
     "output_type": "stream",
     "text": [
      "This is line 1 \n",
      "This is line 2\n",
      "This is line 3\n"
     ]
    }
   ],
   "source": [
    "with open(\"example1.txt\", \"r\") as file2:\n",
    "    filecontent = file2.read()\n",
    "    print(filecontent)"
   ]
  },
  {
   "cell_type": "code",
   "execution_count": 51,
   "id": "94a251a0-af08-41c9-a6ef-d2c45ec90b5d",
   "metadata": {},
   "outputs": [
    {
     "data": {
      "text/plain": [
       "True"
      ]
     },
     "execution_count": 51,
     "metadata": {},
     "output_type": "execute_result"
    }
   ],
   "source": [
    "file2.closed"
   ]
  },
  {
   "cell_type": "code",
   "execution_count": 52,
   "id": "cb8c4c12-e806-4f4e-8bd7-e19166ea9fa0",
   "metadata": {},
   "outputs": [
    {
     "name": "stdout",
     "output_type": "stream",
     "text": [
      "This is line 1 \n",
      "This is line 2\n",
      "This is line 3\n"
     ]
    }
   ],
   "source": [
    "print(filecontent)"
   ]
  },
  {
   "cell_type": "code",
   "execution_count": 54,
   "id": "b46d83cf-363b-4786-a1a2-c05ac4e2529b",
   "metadata": {},
   "outputs": [
    {
     "data": {
      "text/plain": [
       "list"
      ]
     },
     "execution_count": 54,
     "metadata": {},
     "output_type": "execute_result"
    }
   ],
   "source": [
    "with open(\"testtext.txt\", \"r\") as file3:\n",
    "    textlist = file3.readlines() # readlines creates a list\n",
    "type(textlist)"
   ]
  },
  {
   "cell_type": "code",
   "execution_count": 55,
   "id": "68581291-bc0f-489e-950d-23b118666d48",
   "metadata": {},
   "outputs": [
    {
     "data": {
      "text/plain": [
       "str"
      ]
     },
     "execution_count": 55,
     "metadata": {},
     "output_type": "execute_result"
    }
   ],
   "source": [
    "type(templine)"
   ]
  },
  {
   "cell_type": "code",
   "execution_count": 56,
   "id": "60d9d5e9-dcd0-48aa-aeb7-1a69f9886dc1",
   "metadata": {},
   "outputs": [
    {
     "data": {
      "text/plain": [
       "['In this section, we will use Python\\'s built-in open function to create a file object, and obtain the data from a \"txt\" file. \\n',\n",
       " \"We will use Python's open function to get a file object. We can apply a method to that object to read data from the file.\\n\",\n",
       " 'We can open the file, Example1.txt, as follows. We use the open function. The first argument is the file path. \\n',\n",
       " 'This is made up of the file name, and the file directory.\\n',\n",
       " \"The second parameter is the mode. Common values used include 'r' for reading, 'w' for writing, and 'a' for appending. \\n\",\n",
       " \"We will use 'r' for reading. Finally, we have the file object. We can now use the file object to obtain information about the file. \\n\",\n",
       " 'We can use the data attribute name to get the name of the file. The result is a string that contains the name of the file. \\n',\n",
       " \"We can see what mode the object is in using the data attribute mode, and 'r' is shown representing read. \\n\",\n",
       " 'You should always close the file object using the method close. This may get tedious sometimes, so let\\'s use the \"with\" statement. \\n',\n",
       " 'Using a \"with\" statement to open a file is better practice because it automatically closes the file. \\n',\n",
       " 'The code will run everything in the indent block, then closes the file. This code reads the file, Example1.txt. \\n',\n",
       " 'We can use the file object, \"File1.\" The code will perform all operations in the indent block then close the file at the end of the indent. \\n',\n",
       " 'The method \"read\" stores the values of the file in the variable \"file_stuff\" as a string. You can print the file content. \\n',\n",
       " 'You can check if the file content is closed, but you cannot read from it outside the indent. But you can print the file content outside the indent as well. We can print the file content. We will see the following. When we examine the raw string, we will see the slash-n. \\n',\n",
       " 'This is so Python knows to start a new line. We can output every line as an element in a list using the method \"readlines.\"\\n',\n",
       " ' The first line corresponds to the first element in the list. The second line corresponds to the second element in the list, and so on. \\n',\n",
       " 'We can use the method \"readline\" to read the first line of the file. \\n',\n",
       " 'If we run this command, it will store the first line in the variable \"file_stuff\" then print the first line. We can use the method \"readline\" twice.\\n',\n",
       " 'The first time it\\'s called, it will save the first line in the variable \"file_stuff,\" and then print the first line.\\n',\n",
       " 'The second time it\\'s called, it will save the second line in the variable \"file_stuff,\" and then print the second line. \\n',\n",
       " \"We can use a loop to print out each line individually as follows. Let's represent every character in a string as a grid. \\n\",\n",
       " 'We can specify the number of characters we would like to read from the string as an argument to the method \"readline.\" \\n',\n",
       " 'When we use a four as an argument in the method \"readline,\" we print out the first four characters in the file. \\n',\n",
       " 'Each time we call the method, we will progress through the text. \\n',\n",
       " 'If we call a method with the arguments 16, the first 16 characters are printed out, and then the new line. \\n',\n",
       " 'If we call the method a second time, the next five characters are printed out. \\n',\n",
       " 'Finally, if we call the method the last time with the argument nine, the last nine characters are printed out.\\n',\n",
       " 'Check out the labs for more examples of methods and other file types.']"
      ]
     },
     "execution_count": 56,
     "metadata": {},
     "output_type": "execute_result"
    }
   ],
   "source": [
    "textlist"
   ]
  },
  {
   "cell_type": "code",
   "execution_count": 60,
   "id": "7ac8b2e6-3271-4051-80bf-c535a89156f5",
   "metadata": {},
   "outputs": [],
   "source": [
    "file4 = open(\"new.text\", \"w\")"
   ]
  },
  {
   "cell_type": "code",
   "execution_count": 61,
   "id": "45f80012-cc80-492e-a85f-b9596ca99eb7",
   "metadata": {},
   "outputs": [
    {
     "data": {
      "text/plain": [
       "32"
      ]
     },
     "execution_count": 61,
     "metadata": {},
     "output_type": "execute_result"
    }
   ],
   "source": [
    "file4.write(\"This is a new line in a new file\")"
   ]
  },
  {
   "cell_type": "code",
   "execution_count": 80,
   "id": "86046d23-2132-43d7-811d-325edabc3a7e",
   "metadata": {},
   "outputs": [],
   "source": [
    "file4.close()"
   ]
  },
  {
   "cell_type": "code",
   "execution_count": 81,
   "id": "8561ad72-9cc1-44c0-bb2b-36e6aa442dba",
   "metadata": {},
   "outputs": [],
   "source": [
    "with open(\"new.text\", \"r\") as file5:\n",
    "    tempfile1 = file5.read()"
   ]
  },
  {
   "cell_type": "code",
   "execution_count": 82,
   "id": "060b7de4-047a-4096-ae04-669359c9937e",
   "metadata": {},
   "outputs": [
    {
     "data": {
      "text/plain": [
       "'This is a new line in a new filethis is line BThis is line Cthis is line BThis is line C'"
      ]
     },
     "execution_count": 82,
     "metadata": {},
     "output_type": "execute_result"
    }
   ],
   "source": [
    "tempfile1"
   ]
  },
  {
   "cell_type": "code",
   "execution_count": 83,
   "id": "2b2b6eb6-b8ea-4849-b31b-ec45b0533729",
   "metadata": {},
   "outputs": [],
   "source": [
    "with open(\"new.text\", 'a') as file1:\n",
    "    file1.write(\"this is line B\")\n",
    "    file1.write(\"This is line C\")"
   ]
  },
  {
   "cell_type": "code",
   "execution_count": 75,
   "id": "b1c916ff-a0b3-4809-934f-7114d8f6012f",
   "metadata": {},
   "outputs": [],
   "source": [
    "with open(\"new.text\", 'r') as file1:\n",
    "    temp = file1.read()"
   ]
  },
  {
   "cell_type": "code",
   "execution_count": 76,
   "id": "7c586e0b-7a67-404b-be5f-8af6da415fb6",
   "metadata": {},
   "outputs": [
    {
     "data": {
      "text/plain": [
       "'This is a new line in a new filethis is line BThis is line Cthis is line BThis is line C'"
      ]
     },
     "execution_count": 76,
     "metadata": {},
     "output_type": "execute_result"
    }
   ],
   "source": [
    "temp"
   ]
  },
  {
   "cell_type": "code",
   "execution_count": 77,
   "id": "778a011a-0686-4931-803b-a7313bfdb9b4",
   "metadata": {},
   "outputs": [
    {
     "name": "stdout",
     "output_type": "stream",
     "text": [
      "This is a new line in a new filethis is line BThis is line Cthis is line BThis is line C\n"
     ]
    }
   ],
   "source": [
    "print(temp)"
   ]
  },
  {
   "cell_type": "code",
   "execution_count": 71,
   "id": "2e74359d-8128-497f-8b02-2f9df76dd22b",
   "metadata": {},
   "outputs": [],
   "source": [
    "with open ('new.text', 'r') as readfile:\n",
    "    with open('example1.txt', 'w') as writefile:\n",
    "        for line in readfile:\n",
    "            writefile.write(line)"
   ]
  },
  {
   "cell_type": "code",
   "execution_count": 72,
   "id": "cbf10767-c31d-484c-b987-52ee2f7c4dbc",
   "metadata": {},
   "outputs": [
    {
     "name": "stdout",
     "output_type": "stream",
     "text": [
      "<_io.TextIOWrapper name='new.text' mode='r' encoding='cp1252'>\n"
     ]
    }
   ],
   "source": [
    "print(readfile)"
   ]
  },
  {
   "cell_type": "code",
   "execution_count": 73,
   "id": "0f689458-5ece-4adb-8fdc-93059c911ef7",
   "metadata": {},
   "outputs": [
    {
     "name": "stdout",
     "output_type": "stream",
     "text": [
      "<_io.TextIOWrapper name='example1.txt' mode='w' encoding='cp1252'>\n"
     ]
    }
   ],
   "source": [
    "print(writefile)"
   ]
  },
  {
   "cell_type": "code",
   "execution_count": null,
   "id": "aae4e225-c088-45df-873a-399b0de4d681",
   "metadata": {},
   "outputs": [],
   "source": []
  }
 ],
 "metadata": {
  "kernelspec": {
   "display_name": "Python 3 (ipykernel)",
   "language": "python",
   "name": "python3"
  },
  "language_info": {
   "codemirror_mode": {
    "name": "ipython",
    "version": 3
   },
   "file_extension": ".py",
   "mimetype": "text/x-python",
   "name": "python",
   "nbconvert_exporter": "python",
   "pygments_lexer": "ipython3",
   "version": "3.12.3"
  }
 },
 "nbformat": 4,
 "nbformat_minor": 5
}
