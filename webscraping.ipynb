{
 "cells": [
  {
   "cell_type": "code",
   "execution_count": 4,
   "id": "b4951f99-6482-49cd-b1f8-62e13734e2d3",
   "metadata": {},
   "outputs": [],
   "source": [
    "from bs4 import BeautifulSoup\n",
    "import requests"
   ]
  },
  {
   "cell_type": "code",
   "execution_count": 7,
   "id": "ca895f1a-2b41-4c85-b7fa-d2b1589baa68",
   "metadata": {},
   "outputs": [
    {
     "name": "stdout",
     "output_type": "stream",
     "text": [
      "<!DOCTYPE html PUBLIC \"-//W3C//DTD XHTML 1.0 Transitional//EN\" \"http://www.w3.org/TR/xhtml1/DTD/xhtml1-transitional.dtd\">\n",
      "\n",
      "<html xmlns=\"http://www.w3.org/1999/xhtml\">\n",
      "<head>\n",
      "<title>DEImmersionDay</title>\n",
      "<meta http-equiv=\"Content-Type\" content=\"text/html; charset=iso-8859-1\" />\n",
      "<link rel=\"stylesheet\" href=\"../../css/layout.css\" type=\"text/css\" />\n",
      "\n",
      "</head>\n",
      "<body id=\"top\">\n",
      "\n",
      "<!-- ####################################################################################################### -->\n",
      "\n"
     ]
    }
   ],
   "source": [
    "url = 'https://lab317.net/projects/deimmersionday/immersionintro.html'\n",
    "response = requests.get(url)\n",
    "html_content = response.text\n",
    "soup = BeautifulSoup(html_content, 'html.parser') # creates BS object\n",
    "print(html_content[:500])"
   ]
  },
  {
   "cell_type": "code",
   "execution_count": 8,
   "id": "25994776-914b-42ea-beae-e99dfbff1041",
   "metadata": {},
   "outputs": [],
   "source": [
    "links = soup.find_all('a') # pulls all instances of <a> tage"
   ]
  },
  {
   "cell_type": "code",
   "execution_count": 9,
   "id": "5cf7a0db-e62c-406f-a299-43d46aa342f9",
   "metadata": {},
   "outputs": [
    {
     "data": {
      "text/plain": [
       "[<a href=\"https://catalog.us-east-1.prod.workshops.aws/workshops/976050cc-0606-4b23-b49f-ca7b8ac4b153/en-US\">Data Engineering Immersion Day</a>,\n",
       " <a href=\"../../index.html\">Back One</a>,\n",
       " <a href=\"#\">here</a>,\n",
       " <a href=\"day1/day1.html\">Continue Reading »</a>,\n",
       " <a href=\"day2/day2.html\">Continue Reading »</a>,\n",
       " <a href=\"ingestdms/ingestdms.html\">Continue Reading »</a>,\n",
       " <a href=\"transformglue/transformwithglue.html\">Continue Reading »</a>,\n",
       " <a href=\"gluedatabrew/databrew.html\">Continue Reading »</a>]"
      ]
     },
     "execution_count": 9,
     "metadata": {},
     "output_type": "execute_result"
    }
   ],
   "source": [
    "links"
   ]
  },
  {
   "cell_type": "code",
   "execution_count": 10,
   "id": "00833438-eaac-4c36-befa-f8a2ed9c9d31",
   "metadata": {},
   "outputs": [
    {
     "name": "stdout",
     "output_type": "stream",
     "text": [
      "Data Engineering Immersion Day\n",
      "Back One\n",
      "here\n",
      "Continue Reading »\n",
      "Continue Reading »\n",
      "Continue Reading »\n",
      "Continue Reading »\n",
      "Continue Reading »\n"
     ]
    }
   ],
   "source": [
    "for link in links:\n",
    "    print(link.text)"
   ]
  },
  {
   "cell_type": "code",
   "execution_count": null,
   "id": "caaba4d2-72ab-4bc9-b8e4-8b11e23d5f07",
   "metadata": {},
   "outputs": [],
   "source": []
  }
 ],
 "metadata": {
  "kernelspec": {
   "display_name": "Python 3 (ipykernel)",
   "language": "python",
   "name": "python3"
  },
  "language_info": {
   "codemirror_mode": {
    "name": "ipython",
    "version": 3
   },
   "file_extension": ".py",
   "mimetype": "text/x-python",
   "name": "python",
   "nbconvert_exporter": "python",
   "pygments_lexer": "ipython3",
   "version": "3.12.3"
  }
 },
 "nbformat": 4,
 "nbformat_minor": 5
}
