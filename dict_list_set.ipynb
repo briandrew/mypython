{
 "cells": [
  {
   "cell_type": "code",
   "execution_count": 76,
   "id": "764ec00b-8b0c-400e-9982-41208d6092d4",
   "metadata": {},
   "outputs": [
    {
     "data": {
      "text/plain": [
       "{'key1': 1,\n",
       " 'key2': '2',\n",
       " 'key3': [3, 3, 3],\n",
       " 'key4': (4, 4, 4),\n",
       " 'key5': 5,\n",
       " (0, 1): 6}"
      ]
     },
     "execution_count": 76,
     "metadata": {},
     "output_type": "execute_result"
    }
   ],
   "source": [
    "Dict = {\"key1\": 1, \"key2\": \"2\", \"key3\": [3, 3, 3], \"key4\": (4, 4, 4), ('key5'): 5, (0, 1): 6}\n",
    "Dict"
   ]
  },
  {
   "cell_type": "code",
   "execution_count": 77,
   "id": "345ce535-30e2-44fa-8055-86bdb4b77ca5",
   "metadata": {},
   "outputs": [
    {
     "data": {
      "text/plain": [
       "{'Thriller': '1982',\n",
       " 'Back in Black': '1980',\n",
       " 'The Dark Side of the Moon': '1973',\n",
       " 'The Bodyguard': '1992',\n",
       " 'Bat Out of Hell': '1977',\n",
       " 'Their Greatest Hits (1971-1975)': '1976',\n",
       " 'Saturday Night Fever': '1977',\n",
       " 'Rumours': '1977'}"
      ]
     },
     "execution_count": 77,
     "metadata": {},
     "output_type": "execute_result"
    }
   ],
   "source": [
    "release_year_dict = {\"Thriller\": \"1982\", \"Back in Black\": \"1980\", \\\n",
    "                    \"The Dark Side of the Moon\": \"1973\", \"The Bodyguard\": \"1992\", \\\n",
    "                    \"Bat Out of Hell\": \"1977\", \"Their Greatest Hits (1971-1975)\": \"1976\", \\\n",
    "                    \"Saturday Night Fever\": \"1977\", \"Rumours\": \"1977\"}\n",
    "release_year_dict"
   ]
  },
  {
   "cell_type": "code",
   "execution_count": 79,
   "id": "45722b23-65f7-4994-8919-8f7d1c26042c",
   "metadata": {},
   "outputs": [
    {
     "data": {
      "text/plain": [
       "'1973'"
      ]
     },
     "execution_count": 79,
     "metadata": {},
     "output_type": "execute_result"
    }
   ],
   "source": [
    "release_year_dict[\"The Dark Side of the Moon\"]"
   ]
  },
  {
   "cell_type": "code",
   "execution_count": 80,
   "id": "fbfa4661-a5da-4fb4-8e1a-90e2876ec674",
   "metadata": {},
   "outputs": [
    {
     "data": {
      "text/plain": [
       "1"
      ]
     },
     "execution_count": 80,
     "metadata": {},
     "output_type": "execute_result"
    }
   ],
   "source": [
    "Dict['key1']"
   ]
  },
  {
   "cell_type": "code",
   "execution_count": 84,
   "id": "c3147f41-313d-442f-8b1b-347e7ca70c1f",
   "metadata": {},
   "outputs": [
    {
     "data": {
      "text/plain": [
       "dict_keys(['Thriller', 'Back in Black', 'The Dark Side of the Moon', 'The Bodyguard', 'Bat Out of Hell', 'Their Greatest Hits (1971-1975)', 'Saturday Night Fever', 'Rumours'])"
      ]
     },
     "execution_count": 84,
     "metadata": {},
     "output_type": "execute_result"
    }
   ],
   "source": [
    "release_year_dict.keys()"
   ]
  },
  {
   "cell_type": "code",
   "execution_count": 85,
   "id": "649417ab-4bd8-4efc-9073-98b69d963e4c",
   "metadata": {},
   "outputs": [
    {
     "data": {
      "text/plain": [
       "dict_values(['1982', '1980', '1973', '1992', '1977', '1976', '1977', '1977'])"
      ]
     },
     "execution_count": 85,
     "metadata": {},
     "output_type": "execute_result"
    }
   ],
   "source": [
    "release_year_dict.values()"
   ]
  },
  {
   "cell_type": "code",
   "execution_count": 86,
   "id": "85559d35-04bd-4fee-935b-3001793176d9",
   "metadata": {},
   "outputs": [],
   "source": [
    "release_year_dict['Graduation'] = '2007'"
   ]
  },
  {
   "cell_type": "code",
   "execution_count": 87,
   "id": "a581bffd-921c-4170-ab70-aad1dffd5633",
   "metadata": {},
   "outputs": [
    {
     "data": {
      "text/plain": [
       "dict_keys(['Thriller', 'Back in Black', 'The Dark Side of the Moon', 'The Bodyguard', 'Bat Out of Hell', 'Their Greatest Hits (1971-1975)', 'Saturday Night Fever', 'Rumours', 'Graduation'])"
      ]
     },
     "execution_count": 87,
     "metadata": {},
     "output_type": "execute_result"
    }
   ],
   "source": [
    "release_year_dict.keys()"
   ]
  },
  {
   "cell_type": "code",
   "execution_count": 88,
   "id": "4f625c76-7926-45cd-9e86-32cecbfe96a1",
   "metadata": {},
   "outputs": [],
   "source": [
    "del(release_year_dict['Thriller'])"
   ]
  },
  {
   "cell_type": "code",
   "execution_count": 89,
   "id": "26403e70-1a32-44cb-8db4-7efd37e0fae2",
   "metadata": {},
   "outputs": [
    {
     "data": {
      "text/plain": [
       "{'Back in Black': '1980',\n",
       " 'The Dark Side of the Moon': '1973',\n",
       " 'The Bodyguard': '1992',\n",
       " 'Bat Out of Hell': '1977',\n",
       " 'Their Greatest Hits (1971-1975)': '1976',\n",
       " 'Saturday Night Fever': '1977',\n",
       " 'Rumours': '1977',\n",
       " 'Graduation': '2007'}"
      ]
     },
     "execution_count": 89,
     "metadata": {},
     "output_type": "execute_result"
    }
   ],
   "source": [
    "release_year_dict"
   ]
  },
  {
   "cell_type": "code",
   "execution_count": 90,
   "id": "020d0eb2-1efc-4260-8424-71c7ef1328c8",
   "metadata": {},
   "outputs": [
    {
     "data": {
      "text/plain": [
       "True"
      ]
     },
     "execution_count": 90,
     "metadata": {},
     "output_type": "execute_result"
    }
   ],
   "source": [
    "'Back in Black' in release_year_dict"
   ]
  },
  {
   "cell_type": "code",
   "execution_count": 91,
   "id": "6b4a3688-bd0a-4707-8e50-ea7b5b847cc6",
   "metadata": {},
   "outputs": [
    {
     "data": {
      "text/plain": [
       "False"
      ]
     },
     "execution_count": 91,
     "metadata": {},
     "output_type": "execute_result"
    }
   ],
   "source": [
    "'yoyo' in release_year_dict"
   ]
  },
  {
   "cell_type": "code",
   "execution_count": 92,
   "id": "6f78789e-be62-4209-ae6c-475c78917b79",
   "metadata": {},
   "outputs": [
    {
     "data": {
      "text/plain": [
       "{'The Bodyguard': '1992', 'Saturday Night Fever': '1977'}"
      ]
     },
     "execution_count": 92,
     "metadata": {},
     "output_type": "execute_result"
    }
   ],
   "source": [
    "\n",
    "soundtrack_dic = {\"The Bodyguard\":\"1992\", \"Saturday Night Fever\":\"1977\"}\n",
    "soundtrack_dic "
   ]
  },
  {
   "cell_type": "code",
   "execution_count": 93,
   "id": "3fdc3258-1b25-4086-abcf-f8db2d7032e9",
   "metadata": {},
   "outputs": [
    {
     "data": {
      "text/plain": [
       "dict_keys(['The Bodyguard', 'Saturday Night Fever'])"
      ]
     },
     "execution_count": 93,
     "metadata": {},
     "output_type": "execute_result"
    }
   ],
   "source": [
    "soundtrack_dic.keys()"
   ]
  },
  {
   "cell_type": "code",
   "execution_count": 97,
   "id": "eab1f119-e9cc-4b3d-a447-eb57dc023273",
   "metadata": {},
   "outputs": [],
   "source": [
    "inventory= {}\n"
   ]
  },
  {
   "cell_type": "code",
   "execution_count": 98,
   "id": "4e3e6d35-9e61-45c5-8d6f-319d3b46d7ea",
   "metadata": {},
   "outputs": [],
   "source": [
    "ProductN01 = \"Mobile Phone\"\n",
    "ProductN01_qty = 5\n",
    "ProductN01_price = 20000\n",
    "ProductN01_Year = 2020"
   ]
  },
  {
   "cell_type": "code",
   "execution_count": 99,
   "id": "ddd78bf3-5a5b-47a4-bfcc-b3dae3dc59b7",
   "metadata": {},
   "outputs": [],
   "source": [
    "inventory[\"ProductN01\"] = ProductN01\n",
    "inventory[\"ProductN01_qty\"] = ProductN01_qty\n",
    "inventory[\"ProductN01_price\"] = ProductN01_price\n",
    "inventory[\"ProductN01_Year\"] = ProductN01_Year"
   ]
  },
  {
   "cell_type": "code",
   "execution_count": 100,
   "id": "3e3865d0-2f62-47fe-bd5d-c8a74087a594",
   "metadata": {},
   "outputs": [
    {
     "data": {
      "text/plain": [
       "{'ProductN01': 'Mobile Phone',\n",
       " 'ProductN01_qty': 5,\n",
       " 'ProductN01_price': 20000,\n",
       " 'ProductN01_Year': 2020}"
      ]
     },
     "execution_count": 100,
     "metadata": {},
     "output_type": "execute_result"
    }
   ],
   "source": [
    "inventory"
   ]
  },
  {
   "cell_type": "code",
   "execution_count": 103,
   "id": "fa1a9ebe-672f-42d2-a895-c663b55f0e8e",
   "metadata": {},
   "outputs": [],
   "source": [
    "ProductName= \"Laptop\"\n",
    "ProductQuantity= 10\n",
    "Productprice = 50000\n",
    "ProductReleaseYear= 2023"
   ]
  },
  {
   "cell_type": "code",
   "execution_count": 104,
   "id": "4649bb82-db8c-48ef-a50e-18f671249125",
   "metadata": {},
   "outputs": [],
   "source": [
    "inventory[\"ProductN02\"] = ProductName\n",
    "inventory[\"ProductN02_qty\"] = ProductQuantity\n",
    "inventory[\"ProductN02_price\"] = Productprice\n",
    "inventory[\"ProductN02_Year\"] = ProductReleaseYear"
   ]
  },
  {
   "cell_type": "code",
   "execution_count": 105,
   "id": "d9d8b4f9-57c4-4e3e-843e-1972553346f1",
   "metadata": {},
   "outputs": [
    {
     "data": {
      "text/plain": [
       "{'ProductN01': 'Mobile Phone',\n",
       " 'ProductN01_qty': 5,\n",
       " 'ProductN01_price': 20000,\n",
       " 'ProductN01_Year': 2020,\n",
       " 'ProductN02': 'Laptop',\n",
       " 'ProductN02_qty': 10,\n",
       " 'ProductN02_price': 50000,\n",
       " 'ProductN02_Year': 2023}"
      ]
     },
     "execution_count": 105,
     "metadata": {},
     "output_type": "execute_result"
    }
   ],
   "source": [
    "inventory"
   ]
  },
  {
   "cell_type": "code",
   "execution_count": 106,
   "id": "16d64402-668b-4882-b66c-dad8c130a474",
   "metadata": {},
   "outputs": [],
   "source": [
    "Dict1={\"A\":1,\"B\":\"2\",\"C\":[3,3,3],\"D\":(4,4,4),'E':5,'F':6}"
   ]
  },
  {
   "cell_type": "code",
   "execution_count": 107,
   "id": "1565d8c5-7898-46bf-8f95-dfbdf9cca3c3",
   "metadata": {},
   "outputs": [
    {
     "data": {
      "text/plain": [
       "(4, 4, 4)"
      ]
     },
     "execution_count": 107,
     "metadata": {},
     "output_type": "execute_result"
    }
   ],
   "source": [
    " Dict1[\"D\"]"
   ]
  },
  {
   "cell_type": "code",
   "execution_count": 110,
   "id": "dfe93ab4-86d3-4503-a11c-0b2ec7a2adda",
   "metadata": {},
   "outputs": [
    {
     "data": {
      "text/plain": [
       "['A', 'B', 'C', 'D', 'E', 'F']"
      ]
     },
     "execution_count": 110,
     "metadata": {},
     "output_type": "execute_result"
    }
   ],
   "source": [
    "list(Dict1.keys())"
   ]
  },
  {
   "cell_type": "code",
   "execution_count": 111,
   "id": "f49bd608-7fe6-4145-bdbf-6a37a02f6b0d",
   "metadata": {},
   "outputs": [
    {
     "data": {
      "text/plain": [
       "{'R&B', 'disco', 'hard rock', 'pop', 'rock', 'soul'}"
      ]
     },
     "execution_count": 111,
     "metadata": {},
     "output_type": "execute_result"
    }
   ],
   "source": [
    "set1 = {\"pop\", \"rock\", \"soul\", \"hard rock\", \"rock\", \"R&B\", \"rock\", \"disco\"}\n",
    "set1"
   ]
  },
  {
   "cell_type": "code",
   "execution_count": 113,
   "id": "e933ef02-07fa-4048-86ae-b8a2e95ec418",
   "metadata": {},
   "outputs": [
    {
     "data": {
      "text/plain": [
       "{'electronic music', 'house', 'rap'}"
      ]
     },
     "execution_count": 113,
     "metadata": {},
     "output_type": "execute_result"
    }
   ],
   "source": [
    "set(['rap','house','electronic music', 'rap'])"
   ]
  },
  {
   "cell_type": "code",
   "execution_count": 114,
   "id": "8ec5e05a-5554-41bc-900c-38871e09fa67",
   "metadata": {},
   "outputs": [],
   "source": [
    "A = [1, 2, 2, 1]\n",
    "B = set([1, 2, 2, 1])\n",
    "\n"
   ]
  }
 ],
 "metadata": {
  "kernelspec": {
   "display_name": "Python 3 (ipykernel)",
   "language": "python",
   "name": "python3"
  },
  "language_info": {
   "codemirror_mode": {
    "name": "ipython",
    "version": 3
   },
   "file_extension": ".py",
   "mimetype": "text/x-python",
   "name": "python",
   "nbconvert_exporter": "python",
   "pygments_lexer": "ipython3",
   "version": "3.12.3"
  }
 },
 "nbformat": 4,
 "nbformat_minor": 5
}
