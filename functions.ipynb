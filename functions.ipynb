{
 "cells": [
  {
   "cell_type": "code",
   "execution_count": 6,
   "id": "c909a91c-2e22-483a-ad80-5667528e99a1",
   "metadata": {},
   "outputs": [
    {
     "name": "stdout",
     "output_type": "stream",
     "text": [
      "You entered 5 to which 1 will be added\n"
     ]
    },
    {
     "data": {
      "text/plain": [
       "6"
      ]
     },
     "execution_count": 6,
     "metadata": {},
     "output_type": "execute_result"
    }
   ],
   "source": [
    "def add_one(a):\n",
    "    \"\"\" adds 1 to the input\"\"\"\n",
    "    print(f\"You entered {a} to which 1 will be added\")\n",
    "    return a+1\n",
    "add_one(5)"
   ]
  },
  {
   "cell_type": "code",
   "execution_count": 4,
   "id": "c7fe9ccf-d9e0-4324-8afb-6c205e10c354",
   "metadata": {},
   "outputs": [
    {
     "name": "stdout",
     "output_type": "stream",
     "text": [
      "Help on function add_one in module __main__:\n",
      "\n",
      "add_one(a)\n",
      "    adds 1 to the input\n",
      "\n"
     ]
    }
   ],
   "source": [
    "help(add_one)"
   ]
  },
  {
   "cell_type": "code",
   "execution_count": 12,
   "id": "9fd40569-94fa-47da-950f-ac4c21b855f9",
   "metadata": {},
   "outputs": [
    {
     "name": "stdout",
     "output_type": "stream",
     "text": [
      "For the thing at place 0 the rating is  10.0\n",
      "For the thing at place 1 the rating is  8.5\n",
      "For the thing at place 2 the rating is  9.5\n"
     ]
    }
   ],
   "source": [
    "def printStuff(stuff):\n",
    "    for i, s in enumerate(stuff):\n",
    "        print(\"For the thing at place\", i, \"the rating is \", s)\n",
    "printStuff([10.0, 8.5, 9.5])"
   ]
  },
  {
   "cell_type": "code",
   "execution_count": 15,
   "id": "4f4a9429-dc7a-477e-b729-2df5a43ac5b4",
   "metadata": {},
   "outputs": [
    {
     "name": "stdout",
     "output_type": "stream",
     "text": [
      "Green Day\n",
      "Punker\n",
      "Pink Floyd\n"
     ]
    }
   ],
   "source": [
    "def artistNames (*names):\n",
    "    for name in names:\n",
    "        print(name)\n",
    "artistNames(\"Green Day\", \"Punker\", \"Pink Floyd\")"
   ]
  },
  {
   "cell_type": "code",
   "execution_count": 17,
   "id": "6cfc0d29-cd1b-4db1-87d8-d845e288eeaf",
   "metadata": {},
   "outputs": [
    {
     "name": "stdout",
     "output_type": "stream",
     "text": [
      "AC/DC\n"
     ]
    }
   ],
   "source": [
    "x = \"AC\"\n",
    "def printthing(thing):\n",
    "    print(thing+\"/DC\")\n",
    "\n",
    "printthing(x)"
   ]
  },
  {
   "cell_type": "code",
   "execution_count": 19,
   "id": "e27104d6-cdc3-4e3c-bce0-9128fe28d6e0",
   "metadata": {},
   "outputs": [
    {
     "data": {
      "text/plain": [
       "1982"
      ]
     },
     "execution_count": 19,
     "metadata": {},
     "output_type": "execute_result"
    }
   ],
   "source": [
    "def Thriller():\n",
    "    Date = 1982\n",
    "    return Date\n",
    "Thriller()\n"
   ]
  },
  {
   "cell_type": "code",
   "execution_count": 24,
   "id": "bc922cdb-829e-4f8e-8202-b499699ce408",
   "metadata": {},
   "outputs": [
    {
     "name": "stdout",
     "output_type": "stream",
     "text": [
      "9\n"
     ]
    },
    {
     "data": {
      "text/plain": [
       "10"
      ]
     },
     "execution_count": 24,
     "metadata": {},
     "output_type": "execute_result"
    }
   ],
   "source": [
    "\n",
    "def ACDC(y):\n",
    "    print(Rating)\n",
    "    return(Rating + y)\n",
    "Rating=9\n",
    "Z=ACDC(1)\n",
    "Z"
   ]
  },
  {
   "cell_type": "code",
   "execution_count": 26,
   "id": "3dda4bd0-963f-44bd-ae98-e16c4d0800dd",
   "metadata": {},
   "outputs": [
    {
     "name": "stdout",
     "output_type": "stream",
     "text": [
      "The Frequency of words is: {'mary': 6, 'had': 2, 'a': 2, 'little': 4, 'lamb': 3, 'lamb,': 1, 'lamb.its': 1, 'fleece': 1, 'was': 2, 'white': 1, 'as': 1, 'snow': 1, 'and': 1, 'everywhere': 2, 'that': 2, 'went': 3, 'went,': 1, 'the': 1, 'sure': 1, 'to': 1, 'go': 1}\n"
     ]
    }
   ],
   "source": [
    "# Python Program to Count words in a String using Dictionary\n",
    "def freq(string):\n",
    "    \n",
    "    #step1: A list variable is declared and initialized to an empty list.\n",
    "    words = []\n",
    "    \n",
    "    #step2: Break the string into list of words\n",
    "    words = string.lower().split() # or string.lower().split()\n",
    "    \n",
    "    #step3: Declare a dictionary\n",
    "    Dict = {}\n",
    "    \n",
    "    #step4: Use for loop to iterate words and values to the dictionary\n",
    "    for key in words:\n",
    "        Dict[key] = words.count(key)\n",
    "        \n",
    "    #step5: Print the dictionary\n",
    "    print(\"The Frequency of words is:\",Dict)\n",
    "    \n",
    "#step6: Call function and pass string in it\n",
    "freq(\"Mary had a little lamb Little lamb, little lamb Mary had a little lamb.Its fleece was white as snow And everywhere that Mary went Mary went, Mary went \\\n",
    "Everywhere that Mary went The lamb was sure to go\")"
   ]
  },
  {
   "cell_type": "code",
   "execution_count": 27,
   "id": "2d5fec71-f456-4d97-9ccc-0bc42537782c",
   "metadata": {},
   "outputs": [],
   "source": [
    "# Example for setting param with default value\n",
    "\n",
    "def isGoodRating(rating=4): \n",
    "    if(rating < 7):\n",
    "        print(\"this album sucks it's rating is\",rating)\n",
    "        \n",
    "    else:\n",
    "        print(\"this album is good its rating is\",rating)\n"
   ]
  },
  {
   "cell_type": "code",
   "execution_count": 29,
   "id": "9e4b7add-bd16-4296-aa46-a732dea25fd1",
   "metadata": {},
   "outputs": [
    {
     "name": "stdout",
     "output_type": "stream",
     "text": [
      "this album sucks it's rating is 4\n",
      "this album is good its rating is 10\n"
     ]
    }
   ],
   "source": [
    "isGoodRating()\n",
    "isGoodRating(10)"
   ]
  },
  {
   "cell_type": "code",
   "execution_count": 37,
   "id": "cfbd6151-f504-4c3c-9aa5-5932ce9c2195",
   "metadata": {},
   "outputs": [
    {
     "name": "stdout",
     "output_type": "stream",
     "text": [
      "Michael Jackson is an artist\n",
      "Whitney Houston is an artist\n"
     ]
    }
   ],
   "source": [
    "# Example of global variable\n",
    "\n",
    "artist = \"Michael Jackson\"\n",
    "def printer(artist):\n",
    "    global internal_var1\n",
    "    internal_var1 = \"Whitney Houston\"\n",
    "    print(artist, \"is an artist\")\n",
    "    \n",
    "printer(artist)\n",
    "# try runningthe following code\n",
    "printer(internal_var1) "
   ]
  },
  {
   "cell_type": "code",
   "execution_count": 38,
   "id": "14e38486-26e9-4d41-83cf-8bf1f72021f0",
   "metadata": {},
   "outputs": [
    {
     "name": "stdout",
     "output_type": "stream",
     "text": [
      "No of arguments: 3\n",
      "Horsefeather\n",
      "Adonis\n",
      "Bone\n",
      "No of arguments: 4\n",
      "Sidecar\n",
      "Long Island\n",
      "Mudslide\n",
      "Carriage\n"
     ]
    }
   ],
   "source": [
    "def printAll(*args): # All the arguments are 'packed' into args which can be treated like a tuple\n",
    "    print(\"No of arguments:\", len(args)) \n",
    "    for argument in args:\n",
    "        print(argument)\n",
    "#printAll with 3 arguments\n",
    "printAll('Horsefeather','Adonis','Bone')\n",
    "#printAll with 4 arguments\n",
    "printAll('Sidecar','Long Island','Mudslide','Carriage')"
   ]
  },
  {
   "cell_type": "code",
   "execution_count": 39,
   "id": "16ea8ebe-6eba-4077-986f-83e5a618fc02",
   "metadata": {},
   "outputs": [
    {
     "name": "stdout",
     "output_type": "stream",
     "text": [
      "Country : Canada\n",
      "Province : Ontario\n",
      "City : Toronto\n"
     ]
    }
   ],
   "source": [
    "def printDictionary(**args):\n",
    "    for key in args:\n",
    "        print(key + \" : \" + args[key])\n",
    "\n",
    "printDictionary(Country='Canada',Province='Ontario',City='Toronto')\n",
    "    "
   ]
  },
  {
   "cell_type": "code",
   "execution_count": 40,
   "id": "0af6db35-ec80-445d-ac86-d94eadb2c8b5",
   "metadata": {},
   "outputs": [
    {
     "data": {
      "text/plain": [
       "['One', 'Two', 'Three', 'Four']"
      ]
     },
     "execution_count": 40,
     "metadata": {},
     "output_type": "execute_result"
    }
   ],
   "source": [
    "def addItems(list):\n",
    "    list.append(\"Three\")\n",
    "    list.append(\"Four\")\n",
    "\n",
    "myList = [\"One\",\"Two\"]\n",
    "\n",
    "addItems(myList)\n",
    "\n",
    "myList"
   ]
  },
  {
   "cell_type": "code",
   "execution_count": 41,
   "id": "4b97d7be-44c8-422d-be44-081c0b19abcd",
   "metadata": {},
   "outputs": [
    {
     "data": {
      "text/plain": [
       "1"
      ]
     },
     "execution_count": 41,
     "metadata": {},
     "output_type": "execute_result"
    }
   ],
   "source": [
    " len([sum([1,1,1])])"
   ]
  },
  {
   "cell_type": "code",
   "execution_count": 42,
   "id": "370f20db-c05a-42f0-b906-a368572f37f2",
   "metadata": {},
   "outputs": [
    {
     "data": {
      "text/plain": [
       "[1, 2, 3]"
      ]
     },
     "execution_count": 42,
     "metadata": {},
     "output_type": "execute_result"
    }
   ],
   "source": [
    "L=[1,3,2]\n",
    "sorted(L) "
   ]
  },
  {
   "cell_type": "code",
   "execution_count": 43,
   "id": "db391817-234a-44f6-b46a-e95ed7b852e2",
   "metadata": {},
   "outputs": [
    {
     "data": {
      "text/plain": [
       "[1, 3, 2]"
      ]
     },
     "execution_count": 43,
     "metadata": {},
     "output_type": "execute_result"
    }
   ],
   "source": [
    "L"
   ]
  },
  {
   "cell_type": "code",
   "execution_count": 44,
   "id": "fc52f5f1-aabe-40ab-b2f0-004d0f3a3978",
   "metadata": {},
   "outputs": [
    {
     "name": "stdout",
     "output_type": "stream",
     "text": [
      "a1\n",
      "b1\n",
      "c1\n"
     ]
    }
   ],
   "source": [
    "def print_function(A):\n",
    "    for a in A:\n",
    "        print(a + '1')\n",
    "print_function(['a', 'b', 'c'])"
   ]
  },
  {
   "cell_type": "code",
   "execution_count": null,
   "id": "f9060a6b-736d-4d42-bf32-3139e1d0660c",
   "metadata": {},
   "outputs": [],
   "source": []
  }
 ],
 "metadata": {
  "kernelspec": {
   "display_name": "Python 3 (ipykernel)",
   "language": "python",
   "name": "python3"
  },
  "language_info": {
   "codemirror_mode": {
    "name": "ipython",
    "version": 3
   },
   "file_extension": ".py",
   "mimetype": "text/x-python",
   "name": "python",
   "nbconvert_exporter": "python",
   "pygments_lexer": "ipython3",
   "version": "3.12.3"
  }
 },
 "nbformat": 4,
 "nbformat_minor": 5
}
