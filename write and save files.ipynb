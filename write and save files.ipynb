{
 "cells": [
  {
   "cell_type": "code",
   "execution_count": 25,
   "id": "598a6690-1b2f-4c9b-98e6-7a6e03dd9720",
   "metadata": {},
   "outputs": [],
   "source": [
    "# Write line to file\n",
    "exmp2 = 'Example2.txt'\n",
    "with open(exmp2, 'w') as writefile:\n",
    "    writefile.write(\"This is line A\\n\")"
   ]
  },
  {
   "cell_type": "code",
   "execution_count": 26,
   "id": "2c7769d5-d406-4414-9b6e-f86cf1d17320",
   "metadata": {},
   "outputs": [
    {
     "name": "stdout",
     "output_type": "stream",
     "text": [
      "This is line A\n",
      "\n"
     ]
    }
   ],
   "source": [
    "# Read file\n",
    "with open(exmp2, 'r') as testwritefile:\n",
    "    print(testwritefile.read())"
   ]
  },
  {
   "cell_type": "code",
   "execution_count": 27,
   "id": "9e6dfdde-7826-438e-811f-255fbaeb3141",
   "metadata": {},
   "outputs": [],
   "source": [
    "with open(exmp2, 'w') as writefile:\n",
    "    writefile.write(\"This is line a\\n\")\n",
    "    writefile.write(\"This is line b\\n\")"
   ]
  },
  {
   "cell_type": "code",
   "execution_count": 28,
   "id": "aad01648-a218-4926-b4bc-fa1f67ed7939",
   "metadata": {},
   "outputs": [
    {
     "name": "stdout",
     "output_type": "stream",
     "text": [
      "This is line c\n",
      "\n",
      "This is line d\n",
      "\n",
      "This is line e\n",
      "\n"
     ]
    }
   ],
   "source": [
    "Lines = [\"This is line c\\n\", \"This is line d\\n\", \"This is line e\\n\"]\n",
    "# Write the strings in the list to text file\n",
    "\n",
    "with open('Example2.txt', 'a') as writefile:\n",
    "    for line in Lines:\n",
    "        print(line)\n",
    "        writefile.write(line)\n"
   ]
  },
  {
   "cell_type": "code",
   "execution_count": 29,
   "id": "24967d9d-5676-48e6-94d7-8adc378859e4",
   "metadata": {},
   "outputs": [],
   "source": [
    "# Write a new line to text file\n",
    "\n",
    "with open('Example2.txt', 'a') as testwritefile:\n",
    "    testwritefile.write(\"This is line f\\n\")\n",
    "    testwritefile.write(\"This is line g\\n\")\n",
    "    testwritefile.write(\"This is line h\\n\")"
   ]
  },
  {
   "cell_type": "code",
   "execution_count": 30,
   "id": "114b4113-3e71-46e5-80b8-e1c4f0038be8",
   "metadata": {},
   "outputs": [
    {
     "name": "stdout",
     "output_type": "stream",
     "text": [
      "This is line a\n",
      "This is line b\n",
      "This is line c\n",
      "This is line d\n",
      "This is line e\n",
      "This is line f\n",
      "This is line g\n",
      "This is line h\n",
      "\n"
     ]
    }
   ],
   "source": [
    "# Read file\n",
    "with open(exmp2, 'r') as testwritefile:\n",
    "    print(testwritefile.read())"
   ]
  },
  {
   "cell_type": "markdown",
   "id": "aef80786-dc44-44d8-a337-094ea2a2e098",
   "metadata": {},
   "source": [
    "It's fairly ineffecient to open the file in **a** or **w** and then reopening it in **r** to read any lines. Luckily we can access the file in the following modes:\n",
    "- **r+** : Reading and writing. Cannot truncate the file.\n",
    "- **w+** : Writing and reading. Truncates the file.\n",
    "- **a+** : Appending and Reading. Creates a new file, if none exists.\n",
    "You dont have to dwell on the specifics of each mode for this lab. "
   ]
  },
  {
   "cell_type": "code",
   "execution_count": 32,
   "id": "65b5f1d8-1dc3-4add-b5a8-8d0eb2dcc696",
   "metadata": {},
   "outputs": [
    {
     "name": "stdout",
     "output_type": "stream",
     "text": [
      "\n"
     ]
    }
   ],
   "source": [
    "with open('Example2.txt', 'a+') as testwritefile:\n",
    "    testwritefile.write(\"This is line i\\n\")\n",
    "    print(testwritefile.read())"
   ]
  },
  {
   "cell_type": "markdown",
   "id": "2eec9f94-e559-4b24-8e69-d4f62a014f20",
   "metadata": {},
   "source": [
    "Opening the file in **w** is akin to opening the .txt file, moving your cursor to the beginning of the text file, writing new text and deleting everything that follows.\n",
    "Whereas opening the file in **a** is similiar to opening the .txt file, moving your cursor to the very end and then adding the new pieces of text. <br>\n",
    "It is often very useful to know where the 'cursor' is in a file and be able to control it. The following methods allow us to do precisely this -\n",
    "- <code>.tell()</code> - returns the current position in bytes\n",
    "- <code>.seek(offset,from)</code> - changes the position by 'offset' bytes with respect to 'from'. From can take the value of 0,1,2 corresponding to beginning, relative to current position and end"
   ]
  },
  {
   "cell_type": "code",
   "execution_count": 35,
   "id": "32cfe4e7-7ed3-4aaa-893c-a95c40f5b35d",
   "metadata": {},
   "outputs": [
    {
     "name": "stdout",
     "output_type": "stream",
     "text": [
      "Initial Location: 160\n",
      "Read nothing\n",
      "\n",
      "New Location : 0\n",
      "This is line a\n",
      "This is line b\n",
      "This is line c\n",
      "This is line d\n",
      "This is line e\n",
      "This is line f\n",
      "This is line g\n",
      "This is line h\n",
      "This is line i\n",
      "This is line i\n",
      "\n",
      "Location after read: 160\n"
     ]
    }
   ],
   "source": [
    "with open('Example2.txt', 'a+') as testwritefile:\n",
    "    print(\"Initial Location: {}\".format(testwritefile.tell()))\n",
    "    \n",
    "    data = testwritefile.read()\n",
    "    if (not data):  #empty strings return false in python\n",
    "            print('Read nothing') \n",
    "    else: \n",
    "            print(testwritefile.read())\n",
    "            \n",
    "    testwritefile.seek(0,0) # move 0 bytes from beginning.\n",
    "    \n",
    "    print(\"\\nNew Location : {}\".format(testwritefile.tell()))\n",
    "    data = testwritefile.read()\n",
    "    if (not data): \n",
    "            print('Read nothing') \n",
    "    else: \n",
    "            print(data)\n",
    "    \n",
    "    print(\"Location after read: {}\".format(testwritefile.tell()) )"
   ]
  },
  {
   "cell_type": "markdown",
   "id": "acb054e4-1532-4e07-9fff-f09df640b49a",
   "metadata": {},
   "source": [
    "Finally, a note on the difference between **w+** and **r+**. Both of these modes allow access to read and write methods, however, opening a file in **w+** overwrites it and deletes all pre-existing data. <br>\n",
    "\n",
    "In the following code block, Run the code as it is first and then run it without the <code>.truncate()</code>."
   ]
  },
  {
   "cell_type": "code",
   "execution_count": 37,
   "id": "438502b7-e180-494b-b587-17dd990112b3",
   "metadata": {},
   "outputs": [
    {
     "name": "stdout",
     "output_type": "stream",
     "text": [
      "Line 1\n",
      "Line 2\n",
      "Line 3\n",
      "Line 4\n",
      "finished\n",
      "ne c\n",
      "This is line d\n",
      "This is line e\n",
      "This is line f\n",
      "This is line g\n",
      "This is line h\n",
      "This is line i\n",
      "This is line i\n",
      "\n"
     ]
    }
   ],
   "source": [
    "with open('Example2.txt', 'r+') as testwritefile:\n",
    "    testwritefile.seek(0,0) #write at beginning of file\n",
    "    testwritefile.write(\"Line 1\" + \"\\n\")\n",
    "    testwritefile.write(\"Line 2\" + \"\\n\")\n",
    "    testwritefile.write(\"Line 3\" + \"\\n\")\n",
    "    testwritefile.write(\"Line 4\" + \"\\n\")\n",
    "    testwritefile.write(\"finished\\n\")\n",
    "    testwritefile.seek(0,0)\n",
    "    print(testwritefile.read())"
   ]
  },
  {
   "cell_type": "code",
   "execution_count": null,
   "id": "0090d025-0743-4554-a57c-689df7b64d31",
   "metadata": {},
   "outputs": [],
   "source": []
  }
 ],
 "metadata": {
  "kernelspec": {
   "display_name": "Python 3 (ipykernel)",
   "language": "python",
   "name": "python3"
  },
  "language_info": {
   "codemirror_mode": {
    "name": "ipython",
    "version": 3
   },
   "file_extension": ".py",
   "mimetype": "text/x-python",
   "name": "python",
   "nbconvert_exporter": "python",
   "pygments_lexer": "ipython3",
   "version": "3.12.3"
  }
 },
 "nbformat": 4,
 "nbformat_minor": 5
}
