{
 "cells": [
  {
   "cell_type": "code",
   "execution_count": 2,
   "id": "6a80df4f-5e13-4358-b3be-061f251f7fac",
   "metadata": {},
   "outputs": [],
   "source": [
    "givenstring=\"Lorem ipsum dolor! diam amet, consetetur Lorem magna. sed diam nonumy eirmod tempor. diam et labore? et diam magna. et diam amet.\""
   ]
  },
  {
   "cell_type": "code",
   "execution_count": 11,
   "id": "35bd6948-5c4d-47e2-84f9-3071e8e882a6",
   "metadata": {},
   "outputs": [],
   "source": [
    "class TextAnalyzer(object):\n",
    "    def __init__(self, text):\n",
    "       # remove punctuation\n",
    "       formattedText = text.replace('.','').replace('!','').replace('?','').replace(',','')\n",
    "       # make text lowercase\n",
    "       formattedText = formattedText.lower()\n",
    "       # assign formatted text to new attribute \n",
    "       self.fmtText = formattedText\n",
    "\n",
    "    def freqAll(self):\n",
    "        # split text into words\n",
    "        wordList = self.fmtText.split(' ')\n",
    "        # create empty dictionary to store the word frequency\n",
    "        freqMap = {}\n",
    "        for word in set(wordList): # use set to remove duplicates in list\n",
    "            freqMap[word] = wordList.count(word)\n",
    "\n",
    "        return freqMap\n",
    "\n",
    "    def freqOf(self,word):\n",
    "        # get frequency map\n",
    "        freqDict = self.freqAll()\n",
    "\n",
    "        if word in freqDict:\n",
    "            return freqDict[word]\n",
    "        else:\n",
    "            return 0\n",
    "        \n",
    "        \n",
    "        "
   ]
  },
  {
   "cell_type": "code",
   "execution_count": 12,
   "id": "848035ee-e0e9-4eed-9a97-1de0a8c8767a",
   "metadata": {},
   "outputs": [],
   "source": [
    "analyzed = TextAnalyzer(givenstring)"
   ]
  },
  {
   "cell_type": "code",
   "execution_count": 13,
   "id": "47103d17-925b-4038-bd68-a1f8f929b0bb",
   "metadata": {},
   "outputs": [
    {
     "name": "stdout",
     "output_type": "stream",
     "text": [
      "Formatted Text: lorem ipsum dolor diam amet consetetur lorem magna sed diam nonumy eirmod tempor diam et labore et diam magna et diam amet\n"
     ]
    }
   ],
   "source": [
    "print(\"Formatted Text:\", analyzed.fmtText)"
   ]
  },
  {
   "cell_type": "code",
   "execution_count": 15,
   "id": "e274c153-9560-4faf-8159-490c141465cc",
   "metadata": {},
   "outputs": [
    {
     "name": "stdout",
     "output_type": "stream",
     "text": [
      "{'dolor': 1, 'eirmod': 1, 'labore': 1, 'amet': 2, 'nonumy': 1, 'lorem': 2, 'sed': 1, 'consetetur': 1, 'magna': 2, 'tempor': 1, 'ipsum': 1, 'diam': 5, 'et': 3}\n"
     ]
    }
   ],
   "source": [
    "freqMap = analyzed.freqAll()\n",
    "print(freqMap)"
   ]
  },
  {
   "cell_type": "code",
   "execution_count": 18,
   "id": "0a8bcd76-57f1-4352-a8cc-20db24ee717a",
   "metadata": {},
   "outputs": [
    {
     "name": "stdout",
     "output_type": "stream",
     "text": [
      "The word lorem appears 2 times\n"
     ]
    }
   ],
   "source": [
    "word = \"lorem\"\n",
    "frequency = analyzed.freqOf(word)\n",
    "print(\"The word\", word,\"appears\", frequency,\"times\")"
   ]
  },
  {
   "cell_type": "code",
   "execution_count": null,
   "id": "66c84061-9d23-4c00-a3db-56079367c494",
   "metadata": {},
   "outputs": [],
   "source": []
  }
 ],
 "metadata": {
  "kernelspec": {
   "display_name": "Python 3 (ipykernel)",
   "language": "python",
   "name": "python3"
  },
  "language_info": {
   "codemirror_mode": {
    "name": "ipython",
    "version": 3
   },
   "file_extension": ".py",
   "mimetype": "text/x-python",
   "name": "python",
   "nbconvert_exporter": "python",
   "pygments_lexer": "ipython3",
   "version": "3.12.3"
  }
 },
 "nbformat": 4,
 "nbformat_minor": 5
}
