{
 "cells": [
  {
   "cell_type": "code",
   "execution_count": 1,
   "id": "ce5fd2ce-2dee-4ff6-9ea1-1a04065fb389",
   "metadata": {},
   "outputs": [],
   "source": [
    "import requests\n"
   ]
  },
  {
   "cell_type": "code",
   "execution_count": 6,
   "id": "9c03c5c4-6e62-4a91-8439-b5d8a744804c",
   "metadata": {},
   "outputs": [
    {
     "data": {
      "text/plain": [
       "<Response [200]>"
      ]
     },
     "execution_count": 6,
     "metadata": {},
     "output_type": "execute_result"
    }
   ],
   "source": [
    "url = 'https://www.ibm.com/'\n",
    "r=requests.get(url)\n",
    "r"
   ]
  },
  {
   "cell_type": "code",
   "execution_count": 7,
   "id": "99d36d37-fc86-453d-bcfb-94f83b293979",
   "metadata": {},
   "outputs": [
    {
     "data": {
      "text/plain": [
       "{'User-Agent': 'python-requests/2.31.0', 'Accept-Encoding': 'gzip, deflate', 'Accept': '*/*', 'Connection': 'keep-alive', 'Cookie': '_abck=EC02DB4D20AA84A95C5CDA634A0B3D09~-1~YAAQhU3bF5rHJAaQAQAA/mTuBwzxZoyccwaSXx7phZb/UrdZnVfpSusjsRvukmlbdcTGhPbG1xtPA+88fis5tCkYw1iabrmWurlcUorIQ1l48vFiVjg5SWZdea6fmcdTW3mneASVK4ZXSVsKEyiFJgRLYkdD8U9Cyx2S6XYKdkWUqOV+jvSIZK1Sytt/cB1DFU8lOWk3IdDDBmEWrf/imBT2S63+qa63LCo5cJcqZja5gE6ecw/Z/tUo0qbHSP/TfASdlaAAdBXGZmVKcn17SjkWYvf3F7N8+R1RTd7PSmI5j+07ED4qzQQUPlALio5QaQrqQT2yd0FSA89R9ndb6b5LuUSBdQ50jEpFOsIfZu5rQ41uL9Q=~-1~-1~-1; bm_sz=4A65AA8E7F8E57E01C48EE415D6F5F11~YAAQhU3bF5vHJAaQAQAA/2TuBxi2QRMU5wNBAYFuIWb2LbC8ZjrH+aMvKyD8joS9IbjV7P2CqCUl7TMgyweDqrjK2huI9zSTfXW+gCoadAdnB4XBTTTbg9JtXeKlGIxiNcpNQ2R0vIwM7ntcKhAr0Bwvy8rHM+JBeEBrHBwocDf1yAsTfqc4+z7dl9bbM+f7b4e5ALGGrOW/8cw54aN16dsMEQEkdh9FREz+X8ZzzomPrv/YVcEcdPEC+1O0g8i54nB45K2LkuiGj+FCAenKgBZd2XWEagFZyb6oi8Is0FWm90uiuC7VHwv+tpedIFWY8AiMzJq4MfmqBkEBJN2xsuJwLkpBKFYUfSKT~3619125~4338485'}"
      ]
     },
     "execution_count": 7,
     "metadata": {},
     "output_type": "execute_result"
    }
   ],
   "source": [
    "r.request.headers"
   ]
  },
  {
   "cell_type": "code",
   "execution_count": 8,
   "id": "8e2d5030-a08f-468e-ae3e-8d685df6c4b5",
   "metadata": {},
   "outputs": [],
   "source": [
    "r.request.body"
   ]
  },
  {
   "cell_type": "code",
   "execution_count": 9,
   "id": "62e6bb8a-14f6-48df-a30b-1f16629d1225",
   "metadata": {},
   "outputs": [],
   "source": [
    "header=r.headers"
   ]
  },
  {
   "cell_type": "code",
   "execution_count": 10,
   "id": "ebbc8e53-3510-45df-a458-c938ed14aaef",
   "metadata": {},
   "outputs": [
    {
     "data": {
      "text/plain": [
       "{'Content-Security-Policy': 'upgrade-insecure-requests', 'x-frame-options': 'SAMEORIGIN', 'Last-Modified': 'Tue, 11 Jun 2024 15:25:04 GMT', 'ETag': '\"1805f-61a9edec37fb7-gzip\"', 'Accept-Ranges': 'bytes', 'Content-Type': 'text/html;charset=utf-8', 'X-Content-Type-Options': 'nosniff', 'Cache-Control': 'max-age=600', 'Expires': 'Tue, 11 Jun 2024 15:43:02 GMT', 'X-Akamai-Transformed': '9 13165 0 pmb=mTOE,2', 'Content-Encoding': 'gzip', 'Date': 'Tue, 11 Jun 2024 15:33:02 GMT', 'Content-Length': '13351', 'Connection': 'keep-alive', 'Vary': 'Accept-Encoding', 'Strict-Transport-Security': 'max-age=31536000'}"
      ]
     },
     "execution_count": 10,
     "metadata": {},
     "output_type": "execute_result"
    }
   ],
   "source": [
    "header"
   ]
  },
  {
   "cell_type": "code",
   "execution_count": 11,
   "id": "6c79aa94-d211-459c-a078-8d1d6cf84aa4",
   "metadata": {},
   "outputs": [
    {
     "data": {
      "text/plain": [
       "'Tue, 11 Jun 2024 15:33:02 GMT'"
      ]
     },
     "execution_count": 11,
     "metadata": {},
     "output_type": "execute_result"
    }
   ],
   "source": [
    "header['date']"
   ]
  },
  {
   "cell_type": "code",
   "execution_count": 12,
   "id": "55ba3677-b38f-4203-9594-c010c66652c7",
   "metadata": {},
   "outputs": [
    {
     "data": {
      "text/plain": [
       "'\\n<!DOCTYPE HTML>\\n<html lang=\"en-us\">\\n<head>\\r\\n    \\r\\n    \\r\\n    \\r\\n    \\r\\n    \\r\\n    \\r\\n    <meta charset=\"'"
      ]
     },
     "execution_count": 12,
     "metadata": {},
     "output_type": "execute_result"
    }
   ],
   "source": [
    "r.text[0:100]"
   ]
  },
  {
   "cell_type": "code",
   "execution_count": 21,
   "id": "b3d3f1d1-9df3-4c1d-a0b7-6f8a3b8b8943",
   "metadata": {},
   "outputs": [],
   "source": [
    "url_get = 'https://httpbin.org/get'\n",
    "payload={'name':'Joseph', 'ID':'123'}\n",
    "r=requests.get(url_get, params=payload)"
   ]
  },
  {
   "cell_type": "code",
   "execution_count": 23,
   "id": "6e94efbd-babf-456b-a8bd-d286b61a87b1",
   "metadata": {},
   "outputs": [
    {
     "data": {
      "text/plain": [
       "'https://httpbin.org/get?name=Joseph&ID=123'"
      ]
     },
     "execution_count": 23,
     "metadata": {},
     "output_type": "execute_result"
    }
   ],
   "source": [
    "r.url"
   ]
  },
  {
   "cell_type": "code",
   "execution_count": 24,
   "id": "900c95f7-f36a-4572-ad81-78f929f29f7d",
   "metadata": {},
   "outputs": [
    {
     "data": {
      "text/plain": [
       "'{\\n  \"args\": {\\n    \"ID\": \"123\", \\n    \"name\": \"Joseph\"\\n  }, \\n  \"headers\": {\\n    \"Accept\": \"*/*\", \\n    \"Accept-Encoding\": \"gzip, deflate\", \\n    \"Host\": \"httpbin.org\", \\n    \"User-Agent\": \"python-requests/2.31.0\", \\n    \"X-Amzn-Trace-Id\": \"Root=1-66687093-31bbca396060a34e226cc8a1\"\\n  }, \\n  \"origin\": \"174.61.193.129\", \\n  \"url\": \"https://httpbin.org/get?name=Joseph&ID=123\"\\n}\\n'"
      ]
     },
     "execution_count": 24,
     "metadata": {},
     "output_type": "execute_result"
    }
   ],
   "source": [
    "r.text"
   ]
  },
  {
   "cell_type": "code",
   "execution_count": 25,
   "id": "ab27c73b-4574-4550-841c-5bd921826baf",
   "metadata": {},
   "outputs": [
    {
     "data": {
      "text/plain": [
       "'application/json'"
      ]
     },
     "execution_count": 25,
     "metadata": {},
     "output_type": "execute_result"
    }
   ],
   "source": [
    "r.headers['Content-Type']"
   ]
  },
  {
   "cell_type": "code",
   "execution_count": 27,
   "id": "24a42aca-5e40-4e8d-a9fd-b9f7bd041777",
   "metadata": {},
   "outputs": [
    {
     "data": {
      "text/plain": [
       "{'args': {'ID': '123', 'name': 'Joseph'},\n",
       " 'headers': {'Accept': '*/*',\n",
       "  'Accept-Encoding': 'gzip, deflate',\n",
       "  'Host': 'httpbin.org',\n",
       "  'User-Agent': 'python-requests/2.31.0',\n",
       "  'X-Amzn-Trace-Id': 'Root=1-66687093-31bbca396060a34e226cc8a1'},\n",
       " 'origin': '174.61.193.129',\n",
       " 'url': 'https://httpbin.org/get?name=Joseph&ID=123'}"
      ]
     },
     "execution_count": 27,
     "metadata": {},
     "output_type": "execute_result"
    }
   ],
   "source": [
    "r.json() # returns a Python dictionary"
   ]
  },
  {
   "cell_type": "code",
   "execution_count": 28,
   "id": "370f19ac-c0a6-47d2-94ef-2aba2cf73956",
   "metadata": {},
   "outputs": [
    {
     "data": {
      "text/plain": [
       "{'ID': '123', 'name': 'Joseph'}"
      ]
     },
     "execution_count": 28,
     "metadata": {},
     "output_type": "execute_result"
    }
   ],
   "source": [
    "r.json()['args']"
   ]
  },
  {
   "cell_type": "code",
   "execution_count": 30,
   "id": "2779b6c5-b59a-4584-bcae-efe9e15a59fb",
   "metadata": {},
   "outputs": [],
   "source": [
    "url_post = \"http://httpbin.org/post\"\n",
    "payload={'name':'Joseph', 'ID':'123'}\n",
    "r_post=requests.post(url_post,data=payload)"
   ]
  },
  {
   "cell_type": "code",
   "execution_count": 32,
   "id": "c8201a59-7412-4db1-a95c-f3981e6730b6",
   "metadata": {},
   "outputs": [
    {
     "name": "stdout",
     "output_type": "stream",
     "text": [
      "POST request URL:  http://httpbin.org/post\n",
      "GET request URL:  https://httpbin.org/get?name=Joseph&ID=123\n"
     ]
    }
   ],
   "source": [
    "print(\"POST request URL: \", r_post.url)\n",
    "print(\"GET request URL: \", r.url)"
   ]
  },
  {
   "cell_type": "code",
   "execution_count": null,
   "id": "797b71cb-7b19-41f7-aea0-e6560bf847e1",
   "metadata": {},
   "outputs": [],
   "source": []
  }
 ],
 "metadata": {
  "kernelspec": {
   "display_name": "Python 3 (ipykernel)",
   "language": "python",
   "name": "python3"
  },
  "language_info": {
   "codemirror_mode": {
    "name": "ipython",
    "version": 3
   },
   "file_extension": ".py",
   "mimetype": "text/x-python",
   "name": "python",
   "nbconvert_exporter": "python",
   "pygments_lexer": "ipython3",
   "version": "3.12.3"
  }
 },
 "nbformat": 4,
 "nbformat_minor": 5
}
